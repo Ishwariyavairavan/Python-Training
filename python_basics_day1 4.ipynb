{
  "nbformat": 4,
  "nbformat_minor": 0,
  "metadata": {
    "colab": {
      "provenance": []
    },
    "kernelspec": {
      "name": "python3",
      "display_name": "Python 3"
    },
    "language_info": {
      "name": "python"
    }
  },
  "cells": [
    {
      "cell_type": "code",
      "execution_count": 1,
      "metadata": {
        "colab": {
          "base_uri": "https://localhost:8080/"
        },
        "id": "fooBKl8FmcO4",
        "outputId": "c0e4c99d-ffe6-4805-addb-e4f578a5559b"
      },
      "outputs": [
        {
          "output_type": "stream",
          "name": "stdout",
          "text": [
            "welcome to Python world\n"
          ]
        }
      ],
      "source": [
        "print(\"welcome to Python world\")"
      ]
    },
    {
      "cell_type": "code",
      "source": [
        "print(\"Ish\")"
      ],
      "metadata": {
        "colab": {
          "base_uri": "https://localhost:8080/"
        },
        "id": "Tm0LPX5rt8f6",
        "outputId": "4a7a642e-31ce-489e-9f58-f3d8f704eacd"
      },
      "execution_count": 2,
      "outputs": [
        {
          "output_type": "stream",
          "name": "stdout",
          "text": [
            "Ish\n"
          ]
        }
      ]
    },
    {
      "cell_type": "code",
      "source": [
        "2+3"
      ],
      "metadata": {
        "colab": {
          "base_uri": "https://localhost:8080/"
        },
        "id": "456iibnZml4b",
        "outputId": "98005d39-dad6-427f-90f5-a6fad527d64b"
      },
      "execution_count": null,
      "outputs": [
        {
          "output_type": "execute_result",
          "data": {
            "text/plain": [
              "5"
            ]
          },
          "metadata": {},
          "execution_count": 2
        }
      ]
    },
    {
      "cell_type": "code",
      "source": [
        "#Dynamic Programming\n",
        "a=10\n",
        "print(a)\n",
        "print(id(a))\n",
        "a=3.14\n",
        "print(a)\n",
        "print(id(a))\n",
        "a=\"NTT\"\n",
        "print(a)\n",
        "print(id(a))\n"
      ],
      "metadata": {
        "id": "Ew0zx5mHyUm4",
        "outputId": "37ae4c7f-fa7c-453f-e505-477b3f79d6ce",
        "colab": {
          "base_uri": "https://localhost:8080/"
        }
      },
      "execution_count": 7,
      "outputs": [
        {
          "output_type": "stream",
          "name": "stdout",
          "text": [
            "10\n",
            "10751144\n",
            "3.14\n",
            "140609947004304\n",
            "NTT\n",
            "140609948144816\n"
          ]
        }
      ]
    },
    {
      "cell_type": "code",
      "source": [
        "a=10\n",
        "print(a)\n",
        "del (a)\n",
        "print(a)\n"
      ],
      "metadata": {
        "id": "cEr-n7H00o-w",
        "outputId": "18f61911-0284-43e0-c367-31a05aa9f398",
        "colab": {
          "base_uri": "https://localhost:8080/",
          "height": 193
        }
      },
      "execution_count": 12,
      "outputs": [
        {
          "output_type": "stream",
          "name": "stdout",
          "text": [
            "10\n"
          ]
        },
        {
          "output_type": "error",
          "ename": "NameError",
          "evalue": "name 'a' is not defined",
          "traceback": [
            "\u001b[0;31m---------------------------------------------------------------------------\u001b[0m",
            "\u001b[0;31mNameError\u001b[0m                                 Traceback (most recent call last)",
            "\u001b[0;32m<ipython-input-12-18dad2f106f9>\u001b[0m in \u001b[0;36m<cell line: 0>\u001b[0;34m()\u001b[0m\n\u001b[1;32m      2\u001b[0m \u001b[0mprint\u001b[0m\u001b[0;34m(\u001b[0m\u001b[0ma\u001b[0m\u001b[0;34m)\u001b[0m\u001b[0;34m\u001b[0m\u001b[0;34m\u001b[0m\u001b[0m\n\u001b[1;32m      3\u001b[0m \u001b[0;32mdel\u001b[0m \u001b[0;34m(\u001b[0m\u001b[0ma\u001b[0m\u001b[0;34m)\u001b[0m\u001b[0;34m\u001b[0m\u001b[0;34m\u001b[0m\u001b[0m\n\u001b[0;32m----> 4\u001b[0;31m \u001b[0mprint\u001b[0m\u001b[0;34m(\u001b[0m\u001b[0ma\u001b[0m\u001b[0;34m)\u001b[0m\u001b[0;34m\u001b[0m\u001b[0;34m\u001b[0m\u001b[0m\n\u001b[0m",
            "\u001b[0;31mNameError\u001b[0m: name 'a' is not defined"
          ]
        }
      ]
    },
    {
      "cell_type": "code",
      "source": [
        "a=b=c=100\n",
        "print(a,b,c)"
      ],
      "metadata": {
        "id": "tyogi_JZ1hZV",
        "outputId": "da8b22c5-c3d9-4e73-a765-828338c0bd91",
        "colab": {
          "base_uri": "https://localhost:8080/"
        }
      },
      "execution_count": 13,
      "outputs": [
        {
          "output_type": "stream",
          "name": "stdout",
          "text": [
            "100 100 100\n"
          ]
        }
      ]
    },
    {
      "cell_type": "code",
      "source": [
        "a,b,c=10,100,\"NTT\"\n",
        "print (a,b,c)"
      ],
      "metadata": {
        "id": "jLst3zEP1mCa",
        "outputId": "25d05a16-80f4-443e-dd28-8dccac9973cd",
        "colab": {
          "base_uri": "https://localhost:8080/"
        }
      },
      "execution_count": 17,
      "outputs": [
        {
          "output_type": "stream",
          "name": "stdout",
          "text": [
            "10 100 NTT\n"
          ]
        }
      ]
    },
    {
      "cell_type": "code",
      "source": [
        "a='ish'\n",
        "print(a)"
      ],
      "metadata": {
        "id": "BK_94sYd27aL",
        "outputId": "cad7356f-199f-4566-dc18-784b9b498721",
        "colab": {
          "base_uri": "https://localhost:8080/"
        }
      },
      "execution_count": 18,
      "outputs": [
        {
          "output_type": "stream",
          "name": "stdout",
          "text": [
            "ish\n"
          ]
        }
      ]
    },
    {
      "cell_type": "code",
      "source": [
        "s=\"bangalore\"\n",
        "print(s[0:9])\n"
      ],
      "metadata": {
        "id": "BEhyK2ydE_sl",
        "outputId": "bab766a8-7c9f-4c9f-f3fb-53f103a6fc2f",
        "colab": {
          "base_uri": "https://localhost:8080/"
        }
      },
      "execution_count": 20,
      "outputs": [
        {
          "output_type": "stream",
          "name": "stdout",
          "text": [
            "bangalore\n"
          ]
        }
      ]
    },
    {
      "cell_type": "code",
      "source": [
        "s=\"bangalore\"\n",
        "print(s[0:9:])"
      ],
      "metadata": {
        "id": "c4EEFdUNHDZ7",
        "outputId": "2d1ccab2-e2e0-43dc-dc8c-9df81f5ac66d",
        "colab": {
          "base_uri": "https://localhost:8080/"
        }
      },
      "execution_count": 22,
      "outputs": [
        {
          "output_type": "stream",
          "name": "stdout",
          "text": [
            "bangalore\n"
          ]
        }
      ]
    },
    {
      "cell_type": "code",
      "source": [
        "s=\"bangalore\"\n",
        "print(s[::4])"
      ],
      "metadata": {
        "id": "tAlm7JShHOon",
        "outputId": "237172f2-2c68-434e-b81f-283d95c04969",
        "colab": {
          "base_uri": "https://localhost:8080/"
        }
      },
      "execution_count": 25,
      "outputs": [
        {
          "output_type": "stream",
          "name": "stdout",
          "text": [
            "bae\n"
          ]
        }
      ]
    },
    {
      "cell_type": "code",
      "source": [
        "s=\"bangalore\"\n",
        "print(s[0:0:1])"
      ],
      "metadata": {
        "id": "0yfwQcMuHcsR",
        "outputId": "130988fa-aabd-45e2-f466-498534ddf1f6",
        "colab": {
          "base_uri": "https://localhost:8080/"
        }
      },
      "execution_count": 27,
      "outputs": [
        {
          "output_type": "stream",
          "name": "stdout",
          "text": [
            "\n"
          ]
        }
      ]
    }
  ]
}